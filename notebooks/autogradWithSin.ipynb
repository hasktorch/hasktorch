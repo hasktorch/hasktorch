{
 "cells": [
  {
   "cell_type": "code",
   "execution_count": 129,
   "metadata": {},
   "outputs": [
    {
     "data": {
      "application/vnd.vegalite.v2+json": {
       "$schema": "https://vega.github.io/schema/vega-lite/v3.json",
       "data": {
        "values": [
         {
          "Lines": "sin",
          "X": 0,
          "Y": 0
         },
         {
          "Lines": "d sin(x) / dx",
          "X": 0,
          "Y": 1
         },
         {
          "Lines": "sin",
          "X": 0.12566368,
          "Y": 0.12533321042305126
         },
         {
          "Lines": "d sin(x) / dx",
          "X": 0.12566368,
          "Y": 0.9921147042378977
         },
         {
          "Lines": "sin",
          "X": 0.25132736,
          "Y": 0.2486898419801034
         },
         {
          "Lines": "d sin(x) / dx",
          "X": 0.25132736,
          "Y": 0.9685831727301023
         },
         {
          "Lines": "sin",
          "X": 0.37699104,
          "Y": 0.3681244876230683
         },
         {
          "Lines": "d sin(x) / dx",
          "X": 0.37699104,
          "Y": 0.9297765116479624
         },
         {
          "Lines": "sin",
          "X": 0.50265472,
          "Y": 0.4817535923416727
         },
         {
          "Lines": "d sin(x) / dx",
          "X": 0.50265472,
          "Y": 0.8763067249918224
         },
         {
          "Lines": "sin",
          "X": 0.6283183999999999,
          "Y": 0.5877851579401383
         },
         {
          "Lines": "d sin(x) / dx",
          "X": 0.6283183999999999,
          "Y": 0.8090170629259229
         },
         {
          "Lines": "sin",
          "X": 0.75398208,
          "Y": 0.6845470039087399
         },
         {
          "Lines": "d sin(x) / dx",
          "X": 0.75398208,
          "Y": 0.7289687232245069
         },
         {
          "Lines": "sin",
          "X": 0.87964576,
          "Y": 0.7705131386995786
         },
         {
          "Lines": "d sin(x) / dx",
          "X": 0.87964576,
          "Y": 0.6374241155551961
         },
         {
          "Lines": "sin",
          "X": 1.00530944,
          "Y": 0.8443278255159533
         },
         {
          "Lines": "d sin(x) / dx",
          "X": 1.00530944,
          "Y": 0.5358269525317869
         },
         {
          "Lines": "sin",
          "X": 1.13097312,
          "Y": 0.9048269630835961
         },
         {
          "Lines": "d sin(x) / dx",
          "X": 1.13097312,
          "Y": 0.4257794815123395
         },
         {
          "Lines": "sin",
          "X": 1.2566367999999999,
          "Y": 0.9510564442163608
         },
         {
          "Lines": "d sin(x) / dx",
          "X": 1.2566367999999999,
          "Y": 0.3090172162105733
         },
         {
          "Lines": "sin",
          "X": 1.38230048,
          "Y": 0.9822872026509267
         },
         {
          "Lines": "d sin(x) / dx",
          "X": 1.38230048,
          "Y": 0.1873815666180034
         },
         {
          "Lines": "sin",
          "X": 1.50796416,
          "Y": 0.9980267108530312
         },
         {
          "Lines": "d sin(x) / dx",
          "X": 1.50796416,
          "Y": 0.06279079887913536
         },
         {
          "Lines": "sin",
          "X": 1.63362784,
          "Y": 0.998026747468027
         },
         {
          "Lines": "d sin(x) / dx",
          "X": 1.63362784,
          "Y": -0.06279021690033401
         },
         {
          "Lines": "sin",
          "X": 1.75929152,
          "Y": 0.9822873119184741
         },
         {
          "Lines": "d sin(x) / dx",
          "X": 1.75929152,
          "Y": -0.18738099381735202
         },
         {
          "Lines": "sin",
          "X": 1.8849552,
          "Y": 0.9510566244132458
         },
         {
          "Lines": "d sin(x) / dx",
          "X": 1.8849552,
          "Y": -0.309016661621477
         },
         {
          "Lines": "sin",
          "X": 2.01061888,
          "Y": 0.9048272113680073
         },
         {
          "Lines": "d sin(x) / dx",
          "X": 2.01061888,
          "Y": -0.42577895388099635
         },
         {
          "Lines": "sin",
          "X": 2.13628256,
          "Y": 0.8443281379722987
         },
         {
          "Lines": "d sin(x) / dx",
          "X": 2.13628256,
          "Y": -0.5358264601792553
         },
         {
          "Lines": "sin",
          "X": 2.26194624,
          "Y": 0.7705135104002366
         },
         {
          "Lines": "d sin(x) / dx",
          "X": 2.26194624,
          "Y": -0.6374236662461666
         },
         {
          "Lines": "sin",
          "X": 2.38760992,
          "Y": 0.6845474289917715
         },
         {
          "Lines": "d sin(x) / dx",
          "X": 2.38760992,
          "Y": -0.7289683240448488
         },
         {
          "Lines": "sin",
          "X": 2.5132735999999998,
          "Y": 0.5877856297017325
         },
         {
          "Lines": "d sin(x) / dx",
          "X": 2.5132735999999998,
          "Y": -0.8090167201709355
         },
         {
          "Lines": "sin",
          "X": 2.63893728,
          "Y": 0.48175410334187013
         },
         {
          "Lines": "d sin(x) / dx",
          "X": 2.63893728,
          "Y": -0.8763064440669547
         },
         {
          "Lines": "sin",
          "X": 2.76460096,
          "Y": 0.36812502980309364
         },
         {
          "Lines": "d sin(x) / dx",
          "X": 2.76460096,
          "Y": -0.9297762969835656
         },
         {
          "Lines": "sin",
          "X": 2.89026464,
          "Y": 0.2486904067894569
         },
         {
          "Lines": "d sin(x) / dx",
          "X": 2.89026464,
          "Y": -0.9685830277115609
         },
         {
          "Lines": "sin",
          "X": 3.01592832,
          "Y": 0.12533378895435532
         },
         {
          "Lines": "d sin(x) / dx",
          "X": 3.01592832,
          "Y": -0.99211463115224
         },
         {
          "Lines": "sin",
          "X": 3.141592,
          "Y": 5.831294737193866e-07
         },
         {
          "Lines": "d sin(x) / dx",
          "X": 3.141592,
          "Y": -0.99999999999983
         },
         {
          "Lines": "sin",
          "X": 3.26725568,
          "Y": -0.1253326318917046
         },
         {
          "Lines": "d sin(x) / dx",
          "X": 3.26725568,
          "Y": -0.9921147773232181
         },
         {
          "Lines": "sin",
          "X": 3.39291936,
          "Y": -0.24868927717066536
         },
         {
          "Lines": "d sin(x) / dx",
          "X": 3.39291936,
          "Y": -0.9685833177483143
         },
         {
          "Lines": "sin",
          "X": 3.51858304,
          "Y": -0.3681239454429178
         },
         {
          "Lines": "d sin(x) / dx",
          "X": 3.51858304,
          "Y": -0.929776726312043
         },
         {
          "Lines": "sin",
          "X": 3.64424672,
          "Y": -0.4817530813413114
         },
         {
          "Lines": "d sin(x) / dx",
          "X": 3.64424672,
          "Y": -0.8763070059163922
         },
         {
          "Lines": "sin",
          "X": 3.7699104,
          "Y": -0.5877846861783442
         },
         {
          "Lines": "d sin(x) / dx",
          "X": 3.7699104,
          "Y": -0.8090174056806352
         },
         {
          "Lines": "sin",
          "X": 3.89557408,
          "Y": -0.6845465788254755
         },
         {
          "Lines": "d sin(x) / dx",
          "X": 3.89557408,
          "Y": -0.7289691224039171
         },
         {
          "Lines": "sin",
          "X": 4.02123776,
          "Y": -0.7705127669986586
         },
         {
          "Lines": "d sin(x) / dx",
          "X": 4.02123776,
          "Y": -0.6374245648640088
         },
         {
          "Lines": "sin",
          "X": 4.14690144,
          "Y": -0.844327513059321
         },
         {
          "Lines": "d sin(x) / dx",
          "X": 4.14690144,
          "Y": -0.5358274448841364
         },
         {
          "Lines": "sin",
          "X": 4.27256512,
          "Y": -0.9048267147988772
         },
         {
          "Lines": "d sin(x) / dx",
          "X": 4.27256512,
          "Y": -0.4257800091435379
         },
         {
          "Lines": "sin",
          "X": 4.3982288,
          "Y": -0.9510562640191524
         },
         {
          "Lines": "d sin(x) / dx",
          "X": 4.3982288,
          "Y": -0.3090177707995646
         },
         {
          "Lines": "sin",
          "X": 4.52389248,
          "Y": -0.9822870933830454
         },
         {
          "Lines": "d sin(x) / dx",
          "X": 4.52389248,
          "Y": -0.18738213941859105
         },
         {
          "Lines": "sin",
          "X": 4.64955616,
          "Y": -0.998026674237696
         },
         {
          "Lines": "d sin(x) / dx",
          "X": 4.64955616,
          "Y": -0.06279138085791533
         },
         {
          "Lines": "sin",
          "X": 4.77521984,
          "Y": -0.9980267840826835
         },
         {
          "Lines": "d sin(x) / dx",
          "X": 4.77521984,
          "Y": 0.06278963492151134
         },
         {
          "Lines": "sin",
          "X": 4.90088352,
          "Y": -0.9822874211856873
         },
         {
          "Lines": "d sin(x) / dx",
          "X": 4.90088352,
          "Y": 0.1873804210166369
         },
         {
          "Lines": "sin",
          "X": 5.0265471999999995,
          "Y": -0.9510568046098073
         },
         {
          "Lines": "d sin(x) / dx",
          "X": 5.0265471999999995,
          "Y": 0.3090161070322756
         },
         {
          "Lines": "sin",
          "X": 5.15221088,
          "Y": -0.9048274596521106
         },
         {
          "Lines": "d sin(x) / dx",
          "X": 5.15221088,
          "Y": 0.42577842624950835
         },
         {
          "Lines": "sin",
          "X": 5.27787456,
          "Y": -0.8443284504283568
         },
         {
          "Lines": "d sin(x) / dx",
          "X": 5.27787456,
          "Y": 0.5358259678265415
         },
         {
          "Lines": "sin",
          "X": 5.40353824,
          "Y": -0.7705138821006327
         },
         {
          "Lines": "d sin(x) / dx",
          "X": 5.40353824,
          "Y": 0.6374232169369205
         },
         {
          "Lines": "sin",
          "X": 5.52920192,
          "Y": -0.6845478540745702
         },
         {
          "Lines": "d sin(x) / dx",
          "X": 5.52920192,
          "Y": 0.7289679248649429
         },
         {
          "Lines": "sin",
          "X": 5.6548656,
          "Y": -0.5877861014631268
         },
         {
          "Lines": "d sin(x) / dx",
          "X": 5.6548656,
          "Y": 0.8090163774156731
         },
         {
          "Lines": "sin",
          "X": 5.78052928,
          "Y": -0.48175461434190375
         },
         {
          "Lines": "d sin(x) / dx",
          "X": 5.78052928,
          "Y": 0.8763061631417889
         },
         {
          "Lines": "sin",
          "X": 5.90619296,
          "Y": -0.3681255719829938
         },
         {
          "Lines": "d sin(x) / dx",
          "X": 5.90619296,
          "Y": 0.9297760823188526
         },
         {
          "Lines": "sin",
          "X": 6.03185664,
          "Y": -0.2486909715987258
         },
         {
          "Lines": "d sin(x) / dx",
          "X": 6.03185664,
          "Y": 0.9685828826926902
         },
         {
          "Lines": "sin",
          "X": 6.15752032,
          "Y": -0.12533436748561674
         },
         {
          "Lines": "d sin(x) / dx",
          "X": 6.15752032,
          "Y": 0.9921145580662448
         },
         {
          "Lines": "sin",
          "X": 6.283184,
          "Y": -1.166258947438575e-06
         },
         {
          "Lines": "d sin(x) / dx",
          "X": 6.283184,
          "Y": 0.9999999999993199
         }
        ]
       },
       "encoding": {
        "color": {
         "field": "Lines",
         "type": "nominal"
        },
        "x": {
         "axis": {
          "values": [
           0,
           0.12566368,
           0.25132736,
           0.37699104,
           0.50265472,
           0.6283183999999999,
           0.75398208,
           0.87964576,
           1.00530944,
           1.13097312,
           1.2566367999999999,
           1.38230048,
           1.50796416,
           1.63362784,
           1.75929152,
           1.8849552,
           2.01061888,
           2.13628256,
           2.26194624,
           2.38760992,
           2.5132735999999998,
           2.63893728,
           2.76460096,
           2.89026464,
           3.01592832,
           3.141592,
           3.26725568,
           3.39291936,
           3.51858304,
           3.64424672,
           3.7699104,
           3.89557408,
           4.02123776,
           4.14690144,
           4.27256512,
           4.3982288,
           4.52389248,
           4.64955616,
           4.77521984,
           4.90088352,
           5.0265471999999995,
           5.15221088,
           5.27787456,
           5.40353824,
           5.52920192,
           5.6548656,
           5.78052928,
           5.90619296,
           6.03185664,
           6.15752032,
           6.283184
          ]
         },
         "field": "X",
         "type": "quantitative"
        },
        "y": {
         "field": "Y",
         "type": "quantitative"
        }
       },
       "height": 300,
       "mark": "line",
       "width": 400
      },
      "image/png": "[encoded data removed]"
     },
     "metadata": {},
     "output_type": "display_data"
    }
   ],
   "source": [
    ":set -XOverloadedStrings\n",
    "import Torch\n",
    "import Graphics.Vega.VegaLite\n",
    "\n",
    "sin' :: Tensor -> IO Tensor\n",
    "sin' x = do\n",
    "  tx <- makeIndependent x\n",
    "  return $ head $ grad (Torch.sumAll $ Torch.sin (toDependent tx)) [tx]\n",
    "\n",
    "res = 50\n",
    "step=2*3.141592/res\n",
    "tdat = Torch.sin ((asTensor [0..res]) * step)\n",
    "tdat' <- sin' ((asTensor [0..res]) * step)\n",
    "xydat :: [(Double,(Double,Double))]\n",
    "xydat =\n",
    " zip [0,step..] $\n",
    " zip (asValue tdat)\n",
    "     (asValue tdat')\n",
    "axis = PAxis [ AxValues (Numbers (map fst xydat))]\n",
    "enc = encoding\n",
    "    . position X [ PName \"X\", PmType Quantitative, axis ]\n",
    "    . position Y [ PName \"Y\", PmType Quantitative ]\n",
    "    . color [ MName \"Lines\", MmType Nominal ]\n",
    "\n",
    "dat' = foldl\n",
    "            (\\sum' (x,(y,y')) ->\n",
    "               sum' .\n",
    "               dataRow [ (\"X\", Number x)\n",
    "                       , (\"Y\", Number y)\n",
    "                       , (\"Lines\",   Str \"sin\")\n",
    "                       ] .\n",
    "               dataRow [ (\"X\", Number x)\n",
    "                       , (\"Y\", Number y')\n",
    "                       , (\"Lines\",   Str \"d sin(x) / dx\")\n",
    "                       ]\n",
    "            )\n",
    "            (dataFromRows [])\n",
    "            xydat\n",
    "vlShow $ toVegaLite\n",
    "   [ dat' []\n",
    "   , mark Line []\n",
    "   , enc []\n",
    "   , height 300\n",
    "   , width 400\n",
    "   ]"
   ]
  },
  {
   "cell_type": "code",
   "execution_count": null,
   "metadata": {},
   "outputs": [],
   "source": []
  }
 ],
 "metadata": {
  "kernelspec": {
   "display_name": "Haskell - hasktorch",
   "language": "haskell",
   "name": "ihaskell_hasktorch"
  },
  "language_info": {
   "codemirror_mode": "ihaskell",
   "file_extension": ".hs",
   "name": "haskell",
   "pygments_lexer": "Haskell",
   "version": "8.6.5"
  }
 },
 "nbformat": 4,
 "nbformat_minor": 4
}
